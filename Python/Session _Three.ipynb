{
 "cells": [
  {
   "cell_type": "code",
   "execution_count": 5,
   "id": "24b43c8a",
   "metadata": {},
   "outputs": [
    {
     "name": "stdout",
     "output_type": "stream",
     "text": [
      " \n"
     ]
    }
   ],
   "source": [
    "lst = [1]\n",
    "if len(lst)==0:\n",
    "    print(\"empty list\")\n",
    "else:\n",
    "    print(\" \")"
   ]
  },
  {
   "cell_type": "code",
   "execution_count": 10,
   "id": "7199bd05",
   "metadata": {
    "scrolled": true
   },
   "outputs": [
    {
     "name": "stdout",
     "output_type": "stream",
     "text": [
      "Enter two words: amit learning\n",
      "False  not equal\n"
     ]
    }
   ],
   "source": [
    "x = input(\"Enter two words: \")\n",
    "l = x.split()\n",
    "if len(l) > 1  :\n",
    "    if l[0][0] == l[1][0]:\n",
    "        print(True , f\"the first char in word {l[0]} is {l[0][0]} and the first char in word {l[1]} is {l[1][0]}\")\n",
    "    else:\n",
    "        print(False , \" not equal\")\n",
    "else:\n",
    "    print(\"you should enter two words\")"
   ]
  },
  {
   "cell_type": "code",
   "execution_count": 15,
   "id": "5eb0f2f3",
   "metadata": {},
   "outputs": [
    {
     "name": "stdout",
     "output_type": "stream",
     "text": [
      "yes\n"
     ]
    }
   ],
   "source": [
    "if \"a\" in l[1]:\n",
    "    print(\"yes\")\n",
    "else:\n",
    "    print('no')"
   ]
  },
  {
   "cell_type": "code",
   "execution_count": 17,
   "id": "d163bc93",
   "metadata": {},
   "outputs": [
    {
     "name": "stdout",
     "output_type": "stream",
     "text": [
      "enter the word lalal\n",
      "True\n"
     ]
    }
   ],
   "source": [
    "x = input(\"enter the word \")\n",
    "if x[:] == x[::-1]:\n",
    "    print(True)\n",
    "else:\n",
    "    print(False)"
   ]
  },
  {
   "cell_type": "code",
   "execution_count": 24,
   "id": "079a09fa",
   "metadata": {},
   "outputs": [],
   "source": [
    "def sum(num1 , num2):\n",
    "    s = num1 + num2\n",
    "    return s"
   ]
  },
  {
   "cell_type": "code",
   "execution_count": 29,
   "id": "ec8bc7a0",
   "metadata": {},
   "outputs": [
    {
     "data": {
      "text/plain": [
       "8"
      ]
     },
     "execution_count": 29,
     "metadata": {},
     "output_type": "execute_result"
    }
   ],
   "source": [
    "y = 3\n",
    "x = 5\n",
    "sum(x,y)"
   ]
  },
  {
   "cell_type": "code",
   "execution_count": null,
   "id": "ef1e4077",
   "metadata": {},
   "outputs": [],
   "source": [
    "lst = []\n",
    "x = int(input(\"enter the num of numbers\"))\n",
    "for i in range(x):\n",
    "    lst.append(float(input(\"enter the nums \")))\n",
    "lst"
   ]
  },
  {
   "cell_type": "code",
   "execution_count": 4,
   "id": "a55545e4",
   "metadata": {},
   "outputs": [
    {
     "data": {
      "text/plain": [
       "10.0"
      ]
     },
     "execution_count": 4,
     "metadata": {},
     "output_type": "execute_result"
    }
   ],
   "source": [
    "sum(lst)"
   ]
  },
  {
   "cell_type": "code",
   "execution_count": null,
   "id": "c3d79008",
   "metadata": {},
   "outputs": [],
   "source": []
  },
  {
   "cell_type": "code",
   "execution_count": 16,
   "id": "d7291973",
   "metadata": {},
   "outputs": [],
   "source": [
    "def summ(*ls ):\n",
    "    s = 0\n",
    "    for i in ls:\n",
    "        s = s+  i\n",
    "    return s"
   ]
  },
  {
   "cell_type": "code",
   "execution_count": 17,
   "id": "846440d9",
   "metadata": {},
   "outputs": [
    {
     "data": {
      "text/plain": [
       "189"
      ]
     },
     "execution_count": 17,
     "metadata": {},
     "output_type": "execute_result"
    }
   ],
   "source": [
    "summ(1,2,34,4,56,67,7,9,9 )"
   ]
  },
  {
   "cell_type": "code",
   "execution_count": 19,
   "id": "bf378551",
   "metadata": {},
   "outputs": [],
   "source": [
    "def say_hello():\n",
    "    print(\"hello\")"
   ]
  },
  {
   "cell_type": "code",
   "execution_count": 20,
   "id": "eacc61bb",
   "metadata": {},
   "outputs": [
    {
     "name": "stdout",
     "output_type": "stream",
     "text": [
      "hello\n"
     ]
    }
   ],
   "source": [
    "say_hello()"
   ]
  },
  {
   "cell_type": "code",
   "execution_count": 22,
   "id": "b6ba34d3",
   "metadata": {},
   "outputs": [],
   "source": [
    "n1 = 10 \n",
    "n2 = 20\n",
    "def m():\n",
    "    return n1 * n2"
   ]
  },
  {
   "cell_type": "code",
   "execution_count": 23,
   "id": "12b69eb4",
   "metadata": {},
   "outputs": [
    {
     "data": {
      "text/plain": [
       "200"
      ]
     },
     "execution_count": 23,
     "metadata": {},
     "output_type": "execute_result"
    }
   ],
   "source": [
    "m()"
   ]
  },
  {
   "cell_type": "code",
   "execution_count": 30,
   "id": "6d7a31de",
   "metadata": {},
   "outputs": [
    {
     "name": "stdout",
     "output_type": "stream",
     "text": [
      "before global\n",
      "local\n",
      "after  local\n"
     ]
    }
   ],
   "source": [
    "x = \"global\"\n",
    "print(\"before\" , x)\n",
    "def foo():\n",
    "    global x\n",
    "    x = 'local'\n",
    "    print(x)\n",
    "    \n",
    "foo()\n",
    "print(\"after \", x)"
   ]
  },
  {
   "cell_type": "code",
   "execution_count": 1,
   "id": "3a9b9970",
   "metadata": {},
   "outputs": [
    {
     "ename": "NameError",
     "evalue": "name 'w' is not defined",
     "output_type": "error",
     "traceback": [
      "\u001b[1;31m---------------------------------------------------------------------------\u001b[0m",
      "\u001b[1;31mNameError\u001b[0m                                 Traceback (most recent call last)",
      "Cell \u001b[1;32mIn[1], line 5\u001b[0m\n\u001b[0;32m      2\u001b[0m \u001b[38;5;28;01mdef\u001b[39;00m \u001b[38;5;21ms\u001b[39m():\n\u001b[0;32m      3\u001b[0m \u001b[38;5;66;03m#     global w\u001b[39;00m\n\u001b[0;32m      4\u001b[0m     w \u001b[38;5;241m=\u001b[39m \u001b[38;5;241m10\u001b[39m\n\u001b[1;32m----> 5\u001b[0m \u001b[38;5;28mprint\u001b[39m(\u001b[43mw\u001b[49m)\n",
      "\u001b[1;31mNameError\u001b[0m: name 'w' is not defined"
     ]
    }
   ],
   "source": [
    "n = 20\n",
    "def s():\n",
    "#     global w\n",
    "    w = 10\n",
    "print(w)"
   ]
  },
  {
   "cell_type": "code",
   "execution_count": 11,
   "id": "aa478a4d",
   "metadata": {},
   "outputs": [
    {
     "name": "stdout",
     "output_type": "stream",
     "text": [
      "10\n"
     ]
    }
   ],
   "source": [
    "s()"
   ]
  },
  {
   "cell_type": "code",
   "execution_count": 9,
   "id": "40846857",
   "metadata": {},
   "outputs": [
    {
     "data": {
      "text/plain": [
       "10"
      ]
     },
     "execution_count": 9,
     "metadata": {},
     "output_type": "execute_result"
    }
   ],
   "source": [
    "w"
   ]
  },
  {
   "cell_type": "code",
   "execution_count": 12,
   "id": "bc0bb758",
   "metadata": {},
   "outputs": [
    {
     "name": "stdout",
     "output_type": "stream",
     "text": [
      "20\n",
      "30\n"
     ]
    }
   ],
   "source": [
    "f= 20\n",
    "def w():\n",
    "    global f\n",
    "    print(f)\n",
    "    f= 30\n",
    "    print(f)\n",
    "w() "
   ]
  },
  {
   "cell_type": "code",
   "execution_count": 9,
   "id": "0496089e",
   "metadata": {},
   "outputs": [
    {
     "data": {
      "text/plain": [
       "20"
      ]
     },
     "execution_count": 9,
     "metadata": {},
     "output_type": "execute_result"
    }
   ],
   "source": [
    "f"
   ]
  },
  {
   "cell_type": "code",
   "execution_count": 16,
   "id": "b12376e8",
   "metadata": {},
   "outputs": [
    {
     "name": "stdout",
     "output_type": "stream",
     "text": [
      "non_local\n",
      "non_local\n",
      "global\n"
     ]
    }
   ],
   "source": [
    "x = \"global\"\n",
    "def foo():\n",
    "    x = \"local\"\n",
    "    #################\n",
    "    def non_l():\n",
    "        nonlocal x \n",
    "        x = \"non_local\"\n",
    "        print(x)\n",
    "    #################\n",
    "    non_l()\n",
    "    print(x)\n",
    "foo()\n",
    "print(x)"
   ]
  },
  {
   "cell_type": "code",
   "execution_count": 19,
   "id": "a43dfb9b",
   "metadata": {},
   "outputs": [],
   "source": [
    "lst = [1,2,3,4]"
   ]
  },
  {
   "cell_type": "code",
   "execution_count": 17,
   "id": "4beec91d",
   "metadata": {},
   "outputs": [],
   "source": [
    "s = lambda x: x*2"
   ]
  },
  {
   "cell_type": "code",
   "execution_count": 18,
   "id": "dd83d795",
   "metadata": {},
   "outputs": [
    {
     "data": {
      "text/plain": [
       "4"
      ]
     },
     "execution_count": 18,
     "metadata": {},
     "output_type": "execute_result"
    }
   ],
   "source": [
    "s(2)"
   ]
  },
  {
   "cell_type": "code",
   "execution_count": 21,
   "id": "6712d7df",
   "metadata": {},
   "outputs": [],
   "source": [
    "def s(n):\n",
    "    return n * 2"
   ]
  },
  {
   "cell_type": "code",
   "execution_count": 22,
   "id": "0ee3d4ae",
   "metadata": {},
   "outputs": [
    {
     "data": {
      "text/plain": [
       "[2, 4, 6, 8, 10]"
      ]
     },
     "execution_count": 22,
     "metadata": {},
     "output_type": "execute_result"
    }
   ],
   "source": [
    "list(map(s , [1,2,3,4,5]))"
   ]
  },
  {
   "cell_type": "code",
   "execution_count": null,
   "id": "242c33ed",
   "metadata": {},
   "outputs": [],
   "source": []
  }
 ],
 "metadata": {
  "kernelspec": {
   "display_name": "Python 3 (ipykernel)",
   "language": "python",
   "name": "python3"
  },
  "language_info": {
   "codemirror_mode": {
    "name": "ipython",
    "version": 3
   },
   "file_extension": ".py",
   "mimetype": "text/x-python",
   "name": "python",
   "nbconvert_exporter": "python",
   "pygments_lexer": "ipython3",
   "version": "3.10.9"
  }
 },
 "nbformat": 4,
 "nbformat_minor": 5
}
