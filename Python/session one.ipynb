{
 "cells": [
  {
   "cell_type": "markdown",
   "id": "fcc2536c",
   "metadata": {},
   "source": [
    "# upload data"
   ]
  },
  {
   "cell_type": "code",
   "execution_count": null,
   "id": "9b03db79",
   "metadata": {},
   "outputs": [],
   "source": [
    "\"\"\" comment \n",
    "    comment \n",
    "    comment \n",
    "    comment \n",
    "\"\"\"\n",
    "\n",
    "print(\"group maadi 48 \")"
   ]
  },
  {
   "cell_type": "code",
   "execution_count": 5,
   "id": "ce66be6d",
   "metadata": {},
   "outputs": [
    {
     "name": "stdout",
     "output_type": "stream",
     "text": [
      "group maadi 48 \n"
     ]
    }
   ],
   "source": [
    "print(\"group maadi 48 \")"
   ]
  },
  {
   "cell_type": "code",
   "execution_count": null,
   "id": "5d816e05",
   "metadata": {},
   "outputs": [],
   "source": [
    "print(\"group maadi 48 \")"
   ]
  },
  {
   "cell_type": "code",
   "execution_count": 10,
   "id": "84db47e7",
   "metadata": {},
   "outputs": [
    {
     "data": {
      "text/plain": [
       "int"
      ]
     },
     "execution_count": 10,
     "metadata": {},
     "output_type": "execute_result"
    }
   ],
   "source": [
    "x = 5 \n",
    "type(x)"
   ]
  },
  {
   "cell_type": "code",
   "execution_count": 11,
   "id": "4c0ce3d0",
   "metadata": {},
   "outputs": [
    {
     "data": {
      "text/plain": [
       "float"
      ]
     },
     "execution_count": 11,
     "metadata": {},
     "output_type": "execute_result"
    }
   ],
   "source": [
    "x = 5.5 \n",
    "type(x)"
   ]
  },
  {
   "cell_type": "code",
   "execution_count": 14,
   "id": "c6c735b3",
   "metadata": {},
   "outputs": [],
   "source": [
    "x=int(x)"
   ]
  },
  {
   "cell_type": "code",
   "execution_count": 17,
   "id": "dfac663b",
   "metadata": {},
   "outputs": [],
   "source": [
    "x = 5 "
   ]
  },
  {
   "cell_type": "code",
   "execution_count": 18,
   "id": "20526db2",
   "metadata": {},
   "outputs": [
    {
     "name": "stdout",
     "output_type": "stream",
     "text": [
      "5\n"
     ]
    }
   ],
   "source": [
    "print(x)"
   ]
  },
  {
   "cell_type": "code",
   "execution_count": 19,
   "id": "5125dfe3",
   "metadata": {},
   "outputs": [
    {
     "data": {
      "text/plain": [
       "2305737163120"
      ]
     },
     "execution_count": 19,
     "metadata": {},
     "output_type": "execute_result"
    }
   ],
   "source": [
    "id(x)"
   ]
  },
  {
   "cell_type": "code",
   "execution_count": 20,
   "id": "519e7dc4",
   "metadata": {},
   "outputs": [
    {
     "name": "stdout",
     "output_type": "stream",
     "text": [
      "30\n"
     ]
    }
   ],
   "source": [
    "x = 30 \n",
    "print(x)"
   ]
  },
  {
   "cell_type": "code",
   "execution_count": 21,
   "id": "60506f56",
   "metadata": {},
   "outputs": [
    {
     "data": {
      "text/plain": [
       "2305737163920"
      ]
     },
     "execution_count": 21,
     "metadata": {},
     "output_type": "execute_result"
    }
   ],
   "source": [
    "id(x)"
   ]
  },
  {
   "cell_type": "code",
   "execution_count": 1,
   "id": "5d4c3583",
   "metadata": {},
   "outputs": [
    {
     "ename": "NameError",
     "evalue": "name 'x' is not defined",
     "output_type": "error",
     "traceback": [
      "\u001b[1;31m---------------------------------------------------------------------------\u001b[0m",
      "\u001b[1;31mNameError\u001b[0m                                 Traceback (most recent call last)",
      "Cell \u001b[1;32mIn[1], line 1\u001b[0m\n\u001b[1;32m----> 1\u001b[0m \u001b[38;5;28mprint\u001b[39m(\u001b[43mx\u001b[49m)\n",
      "\u001b[1;31mNameError\u001b[0m: name 'x' is not defined"
     ]
    }
   ],
   "source": [
    "print(x)"
   ]
  },
  {
   "cell_type": "code",
   "execution_count": 8,
   "id": "9e18a127",
   "metadata": {},
   "outputs": [
    {
     "name": "stdout",
     "output_type": "stream",
     "text": [
      "amit learning\n"
     ]
    }
   ],
   "source": [
    "x = \"amit learning\"\n",
    "print(x)"
   ]
  },
  {
   "cell_type": "code",
   "execution_count": 9,
   "id": "3cd359be",
   "metadata": {},
   "outputs": [
    {
     "data": {
      "text/plain": [
       "str"
      ]
     },
     "execution_count": 9,
     "metadata": {},
     "output_type": "execute_result"
    }
   ],
   "source": [
    "type(x)"
   ]
  },
  {
   "cell_type": "code",
   "execution_count": 23,
   "id": "fd99662a",
   "metadata": {},
   "outputs": [],
   "source": [
    "x = 10 \n",
    "y = 20\n",
    "z = 30"
   ]
  },
  {
   "cell_type": "code",
   "execution_count": 24,
   "id": "0527fdb8",
   "metadata": {},
   "outputs": [
    {
     "name": "stdout",
     "output_type": "stream",
     "text": [
      "the value of x is :  10\n",
      "the value of y is :  20\n",
      "the value of z is :  30\n"
     ]
    }
   ],
   "source": [
    "print('the value of x is : ',x)\n",
    "print(\"the value of y is : \",y)\n",
    "print(\"the value of z is : \",z)"
   ]
  },
  {
   "cell_type": "code",
   "execution_count": 25,
   "id": "9116a61e",
   "metadata": {},
   "outputs": [
    {
     "name": "stdout",
     "output_type": "stream",
     "text": [
      "the value of x is : 10\n",
      "the value of y is : 20\n",
      "the value of z is : 30\n"
     ]
    }
   ],
   "source": [
    "print(f'the value of x is : {x}')\n",
    "print(f\"the value of y is : {y}\")\n",
    "print(f\"the value of z is : {z}\")"
   ]
  },
  {
   "cell_type": "code",
   "execution_count": 27,
   "id": "bf6e221e",
   "metadata": {},
   "outputs": [
    {
     "name": "stdout",
     "output_type": "stream",
     "text": [
      "the value of x is : 20 , and y value is 10\n",
      "the value of z is : 30\n"
     ]
    }
   ],
   "source": [
    "print('the value of x is : {} , and y value is {1}'.format(x , y))\n",
    "# print(\"the value of y is : {}\".format(y))\n",
    "print(\"the value of z is : {}\".format(z))"
   ]
  },
  {
   "cell_type": "code",
   "execution_count": 28,
   "id": "6030bcb9",
   "metadata": {},
   "outputs": [
    {
     "name": "stdout",
     "output_type": "stream",
     "text": [
      "the value of x is  10 and the value of y is  20\n",
      "the value of z is : {z}\n"
     ]
    }
   ],
   "source": [
    "print('the value of x is ' , x , 'and the value of y is ',y)\n",
    "\n",
    "print(\"the value of z is : {z}\")"
   ]
  },
  {
   "cell_type": "code",
   "execution_count": 37,
   "id": "02d83747",
   "metadata": {},
   "outputs": [],
   "source": [
    "x = 2 \n",
    "y = 3 "
   ]
  },
  {
   "cell_type": "code",
   "execution_count": 38,
   "id": "d04451ef",
   "metadata": {},
   "outputs": [
    {
     "data": {
      "text/plain": [
       "8"
      ]
     },
     "execution_count": 38,
     "metadata": {},
     "output_type": "execute_result"
    }
   ],
   "source": [
    "x**y "
   ]
  },
  {
   "cell_type": "code",
   "execution_count": 39,
   "id": "7c483800",
   "metadata": {},
   "outputs": [
    {
     "data": {
      "text/plain": [
       "1"
      ]
     },
     "execution_count": 39,
     "metadata": {},
     "output_type": "execute_result"
    }
   ],
   "source": [
    "x = -1\n",
    "abs(x)"
   ]
  },
  {
   "cell_type": "code",
   "execution_count": 40,
   "id": "4b890df8",
   "metadata": {},
   "outputs": [
    {
     "data": {
      "text/plain": [
       "'g'"
      ]
     },
     "execution_count": 40,
     "metadata": {},
     "output_type": "execute_result"
    }
   ],
   "source": [
    "x = \"amit learning\"\n",
    "x[-1]"
   ]
  },
  {
   "cell_type": "code",
   "execution_count": 43,
   "id": "aa57b480",
   "metadata": {},
   "outputs": [
    {
     "data": {
      "text/plain": [
       "'am'"
      ]
     },
     "execution_count": 43,
     "metadata": {},
     "output_type": "execute_result"
    }
   ],
   "source": [
    "x[0:2:1]"
   ]
  },
  {
   "cell_type": "code",
   "execution_count": 53,
   "id": "a91251d5",
   "metadata": {},
   "outputs": [
    {
     "data": {
      "text/plain": [
       "'gninrael tima'"
      ]
     },
     "execution_count": 53,
     "metadata": {},
     "output_type": "execute_result"
    }
   ],
   "source": [
    "x[: : -1]"
   ]
  },
  {
   "cell_type": "code",
   "execution_count": 55,
   "id": "45cedeb5",
   "metadata": {},
   "outputs": [
    {
     "name": "stderr",
     "output_type": "stream",
     "text": [
      "UsageError: Line magic function `%df` not found.\n"
     ]
    }
   ],
   "source": [
    "%df = 20"
   ]
  },
  {
   "cell_type": "code",
   "execution_count": 57,
   "id": "cc75268e",
   "metadata": {},
   "outputs": [],
   "source": [
    "name_x = 20"
   ]
  },
  {
   "cell_type": "code",
   "execution_count": 61,
   "id": "467aa2c4",
   "metadata": {},
   "outputs": [],
   "source": [
    "_x = 20"
   ]
  },
  {
   "cell_type": "code",
   "execution_count": 62,
   "id": "f62a6311",
   "metadata": {},
   "outputs": [
    {
     "data": {
      "text/plain": [
       "20"
      ]
     },
     "execution_count": 62,
     "metadata": {},
     "output_type": "execute_result"
    }
   ],
   "source": [
    "_x"
   ]
  },
  {
   "cell_type": "code",
   "execution_count": 63,
   "id": "a7ab9b45",
   "metadata": {},
   "outputs": [],
   "source": [
    "x = 10 "
   ]
  },
  {
   "cell_type": "code",
   "execution_count": 64,
   "id": "d638b431",
   "metadata": {},
   "outputs": [
    {
     "data": {
      "text/plain": [
       "1324614484496"
      ]
     },
     "execution_count": 64,
     "metadata": {},
     "output_type": "execute_result"
    }
   ],
   "source": [
    "id(x)"
   ]
  },
  {
   "cell_type": "code",
   "execution_count": 65,
   "id": "7687e3a3",
   "metadata": {},
   "outputs": [
    {
     "data": {
      "text/plain": [
       "1324614484816"
      ]
     },
     "execution_count": 65,
     "metadata": {},
     "output_type": "execute_result"
    }
   ],
   "source": [
    "x= 20 \n",
    "id(x)"
   ]
  },
  {
   "cell_type": "code",
   "execution_count": 68,
   "id": "3f140aad",
   "metadata": {},
   "outputs": [
    {
     "data": {
      "text/plain": [
       "0"
      ]
     },
     "execution_count": 68,
     "metadata": {},
     "output_type": "execute_result"
    }
   ],
   "source": [
    "x = 10 * False \n"
   ]
  },
  {
   "cell_type": "code",
   "execution_count": 69,
   "id": "58870934",
   "metadata": {},
   "outputs": [
    {
     "data": {
      "text/plain": [
       "float"
      ]
     },
     "execution_count": 69,
     "metadata": {},
     "output_type": "execute_result"
    }
   ],
   "source": [
    "x = 10.5\n",
    "type(x)"
   ]
  },
  {
   "cell_type": "code",
   "execution_count": 70,
   "id": "b2dbdd4b",
   "metadata": {},
   "outputs": [
    {
     "data": {
      "text/plain": [
       "10"
      ]
     },
     "execution_count": 70,
     "metadata": {},
     "output_type": "execute_result"
    }
   ],
   "source": [
    "int(x)"
   ]
  },
  {
   "cell_type": "code",
   "execution_count": 74,
   "id": "9f444e75",
   "metadata": {},
   "outputs": [],
   "source": [
    "x = \"amit\""
   ]
  },
  {
   "cell_type": "code",
   "execution_count": 76,
   "id": "e8273410",
   "metadata": {},
   "outputs": [
    {
     "ename": "TypeError",
     "evalue": "'str' object does not support item assignment",
     "output_type": "error",
     "traceback": [
      "\u001b[1;31m---------------------------------------------------------------------------\u001b[0m",
      "\u001b[1;31mTypeError\u001b[0m                                 Traceback (most recent call last)",
      "Cell \u001b[1;32mIn[76], line 1\u001b[0m\n\u001b[1;32m----> 1\u001b[0m x[\u001b[38;5;241m0\u001b[39m] \u001b[38;5;241m=\u001b[39m \u001b[38;5;124m\"\u001b[39m\u001b[38;5;124md\u001b[39m\u001b[38;5;124m\"\u001b[39m\n",
      "\u001b[1;31mTypeError\u001b[0m: 'str' object does not support item assignment"
     ]
    }
   ],
   "source": [
    "x[0] = \"d\""
   ]
  },
  {
   "cell_type": "code",
   "execution_count": 78,
   "id": "52fbb641",
   "metadata": {},
   "outputs": [
    {
     "data": {
      "text/plain": [
       "'amit learning'"
      ]
     },
     "execution_count": 78,
     "metadata": {},
     "output_type": "execute_result"
    }
   ],
   "source": [
    "x = \"amit \"\n",
    "y = \"learning\"\n",
    "x+y"
   ]
  },
  {
   "cell_type": "code",
   "execution_count": 86,
   "id": "0af2971a",
   "metadata": {},
   "outputs": [
    {
     "data": {
      "text/plain": [
       "'amit'"
      ]
     },
     "execution_count": 86,
     "metadata": {},
     "output_type": "execute_result"
    }
   ],
   "source": [
    "x = \" amit \"\n",
    "x=x.strip()\n",
    "x.upper()\n",
    "x.lower()"
   ]
  },
  {
   "cell_type": "code",
   "execution_count": 87,
   "id": "52b71337",
   "metadata": {},
   "outputs": [
    {
     "name": "stdout",
     "output_type": "stream",
     "text": [
      "enter your name ahmed\n"
     ]
    }
   ],
   "source": [
    "name = input(\"enter your name \")"
   ]
  },
  {
   "cell_type": "code",
   "execution_count": 90,
   "id": "d6c6200f",
   "metadata": {},
   "outputs": [
    {
     "name": "stdout",
     "output_type": "stream",
     "text": [
      "ahmed\n"
     ]
    }
   ],
   "source": [
    "print(name)"
   ]
  },
  {
   "cell_type": "code",
   "execution_count": 94,
   "id": "0bd02485",
   "metadata": {},
   "outputs": [
    {
     "name": "stdout",
     "output_type": "stream",
     "text": [
      "enter your age30\n"
     ]
    }
   ],
   "source": [
    "num = int(input(\"enter your age\"))"
   ]
  },
  {
   "cell_type": "code",
   "execution_count": 95,
   "id": "af2149a3",
   "metadata": {},
   "outputs": [
    {
     "data": {
      "text/plain": [
       "int"
      ]
     },
     "execution_count": 95,
     "metadata": {},
     "output_type": "execute_result"
    }
   ],
   "source": [
    "type(num)"
   ]
  },
  {
   "cell_type": "code",
   "execution_count": 96,
   "id": "97add40b",
   "metadata": {},
   "outputs": [
    {
     "name": "stdout",
     "output_type": "stream",
     "text": [
      "enter first num 2\n",
      "enter second num 3\n",
      "the sum of two numbers is 5.0 and the mult is 6.0\n"
     ]
    }
   ],
   "source": [
    "num1 = float(input(\"enter first num \"))\n",
    "num2 = float(input(\"enter second num \"))\n",
    "print(f\"the sum of two numbers is {num1+ num2} and the mult is {num1*num2}\")"
   ]
  },
  {
   "cell_type": "code",
   "execution_count": 97,
   "id": "9c61fc26",
   "metadata": {},
   "outputs": [
    {
     "data": {
      "text/plain": [
       "1.5"
      ]
     },
     "execution_count": 97,
     "metadata": {},
     "output_type": "execute_result"
    }
   ],
   "source": [
    "3/2"
   ]
  },
  {
   "cell_type": "code",
   "execution_count": 3,
   "id": "a9227875",
   "metadata": {},
   "outputs": [
    {
     "data": {
      "text/plain": [
       "10"
      ]
     },
     "execution_count": 3,
     "metadata": {},
     "output_type": "execute_result"
    }
   ],
   "source": [
    "x = 10 \n",
    "y = x+10\n",
    "z = y + x -20\n",
    "z"
   ]
  },
  {
   "cell_type": "code",
   "execution_count": 8,
   "id": "c9042304",
   "metadata": {},
   "outputs": [
    {
     "data": {
      "text/plain": [
       "1"
      ]
     },
     "execution_count": 8,
     "metadata": {},
     "output_type": "execute_result"
    }
   ],
   "source": [
    "9 % 2 "
   ]
  },
  {
   "cell_type": "code",
   "execution_count": 10,
   "id": "df247916",
   "metadata": {},
   "outputs": [
    {
     "data": {
      "text/plain": [
       "1"
      ]
     },
     "execution_count": 10,
     "metadata": {},
     "output_type": "execute_result"
    }
   ],
   "source": [
    "3 // 2"
   ]
  },
  {
   "cell_type": "code",
   "execution_count": 14,
   "id": "ce51755f",
   "metadata": {},
   "outputs": [
    {
     "data": {
      "text/plain": [
       "True"
      ]
     },
     "execution_count": 14,
     "metadata": {},
     "output_type": "execute_result"
    }
   ],
   "source": [
    "3 > 3 or 3 == 3 "
   ]
  },
  {
   "cell_type": "code",
   "execution_count": 15,
   "id": "33744347",
   "metadata": {},
   "outputs": [
    {
     "data": {
      "text/plain": [
       "False"
      ]
     },
     "execution_count": 15,
     "metadata": {},
     "output_type": "execute_result"
    }
   ],
   "source": [
    "3 > 3 and 3 == 3 "
   ]
  },
  {
   "cell_type": "code",
   "execution_count": 17,
   "id": "69948a11",
   "metadata": {},
   "outputs": [
    {
     "data": {
      "text/plain": [
       "False"
      ]
     },
     "execution_count": 17,
     "metadata": {},
     "output_type": "execute_result"
    }
   ],
   "source": [
    "2 != 2"
   ]
  },
  {
   "cell_type": "code",
   "execution_count": 19,
   "id": "813df397",
   "metadata": {},
   "outputs": [
    {
     "data": {
      "text/plain": [
       "False"
      ]
     },
     "execution_count": 19,
     "metadata": {},
     "output_type": "execute_result"
    }
   ],
   "source": [
    "x = False \n",
    "x"
   ]
  },
  {
   "cell_type": "code",
   "execution_count": 20,
   "id": "56d78903",
   "metadata": {},
   "outputs": [
    {
     "data": {
      "text/plain": [
       "True"
      ]
     },
     "execution_count": 20,
     "metadata": {},
     "output_type": "execute_result"
    }
   ],
   "source": [
    "not x "
   ]
  },
  {
   "cell_type": "code",
   "execution_count": 26,
   "id": "9245d817",
   "metadata": {},
   "outputs": [
    {
     "data": {
      "text/plain": [
       "9"
      ]
     },
     "execution_count": 26,
     "metadata": {},
     "output_type": "execute_result"
    }
   ],
   "source": [
    "x = 10 \n",
    "\n",
    "x -= 1\n",
    "x"
   ]
  },
  {
   "cell_type": "code",
   "execution_count": 27,
   "id": "db98dfa3",
   "metadata": {},
   "outputs": [
    {
     "data": {
      "text/plain": [
       "5.25"
      ]
     },
     "execution_count": 27,
     "metadata": {},
     "output_type": "execute_result"
    }
   ],
   "source": [
    "x = 20 \n",
    "y = 5 \n",
    "(x+ True) / (4 - y * False )"
   ]
  },
  {
   "cell_type": "code",
   "execution_count": 32,
   "id": "74d15edd",
   "metadata": {},
   "outputs": [
    {
     "name": "stdout",
     "output_type": "stream",
     "text": [
      "the value of x is less than y \n"
     ]
    }
   ],
   "source": [
    "x = 10 \n",
    "y = 20 \n",
    "if x == y :\n",
    "    print(\"the value of x equal the value of y\")\n",
    "elif x >= y:\n",
    "    print(\"the value of x is greater than y \")\n",
    "elif x <  y:\n",
    "    print(\"the value of x is less than y \")\n",
    "else:\n",
    "    print(\"the values not equal\")"
   ]
  },
  {
   "cell_type": "code",
   "execution_count": 34,
   "id": "0b685b41",
   "metadata": {},
   "outputs": [
    {
     "name": "stdout",
     "output_type": "stream",
     "text": [
      "1\n",
      "2\n",
      "3\n",
      "the value is  4\n",
      "5\n",
      "6\n"
     ]
    }
   ],
   "source": [
    "x = [1,2,3,4,5,6]\n",
    "for i in x:\n",
    "    if i == 4 :\n",
    "        print(\"the value is \" , i)\n",
    "    else:\n",
    "        print(i)"
   ]
  },
  {
   "cell_type": "code",
   "execution_count": null,
   "id": "42eeffb6",
   "metadata": {},
   "outputs": [],
   "source": []
  }
 ],
 "metadata": {
  "kernelspec": {
   "display_name": "Python 3 (ipykernel)",
   "language": "python",
   "name": "python3"
  },
  "language_info": {
   "codemirror_mode": {
    "name": "ipython",
    "version": 3
   },
   "file_extension": ".py",
   "mimetype": "text/x-python",
   "name": "python",
   "nbconvert_exporter": "python",
   "pygments_lexer": "ipython3",
   "version": "3.10.9"
  }
 },
 "nbformat": 4,
 "nbformat_minor": 5
}
