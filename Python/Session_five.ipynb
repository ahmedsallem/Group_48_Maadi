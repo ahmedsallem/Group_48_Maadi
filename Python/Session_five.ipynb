{
 "cells": [
  {
   "cell_type": "code",
   "execution_count": 4,
   "id": "a0328f2a",
   "metadata": {},
   "outputs": [],
   "source": [
    "v = [1,2]\n",
    "\n",
    "m = [[1,2],\n",
    "     [2,3],\n",
    "     [3,4]]\n",
    "res =[[0,0],\n",
    "      [0,0],\n",
    "      [0,0]]"
   ]
  },
  {
   "cell_type": "code",
   "execution_count": 9,
   "id": "302a849b",
   "metadata": {},
   "outputs": [
    {
     "name": "stdout",
     "output_type": "stream",
     "text": [
      "[2, 4]\n",
      "[3, 5]\n",
      "[4, 6]\n"
     ]
    }
   ],
   "source": [
    "for i in range(len(m)):\n",
    "    for j in range(len(m[0])):\n",
    "        res[i][j] = v[j] + m[i][j]\n",
    "for i in res:\n",
    "    print(i)"
   ]
  },
  {
   "cell_type": "code",
   "execution_count": 30,
   "id": "00f033af",
   "metadata": {},
   "outputs": [
    {
     "data": {
      "text/plain": [
       "[2, 4, 6, 8, 10]"
      ]
     },
     "execution_count": 30,
     "metadata": {},
     "output_type": "execute_result"
    }
   ],
   "source": [
    "lst1 = [1,2,3,4,5]\n",
    "lst2 = [1,2,3,4,5]\n",
    "\n",
    "[ i + x for i , x  in zip(lst1,lst2) ]"
   ]
  },
  {
   "cell_type": "code",
   "execution_count": 14,
   "id": "7c690d97",
   "metadata": {},
   "outputs": [
    {
     "name": "stdout",
     "output_type": "stream",
     "text": [
      "2\n",
      "4\n",
      "6\n",
      "8\n",
      "10\n"
     ]
    }
   ],
   "source": [
    "for i in lst1:\n",
    "    print( i )"
   ]
  },
  {
   "cell_type": "code",
   "execution_count": 31,
   "id": "14297d91",
   "metadata": {},
   "outputs": [],
   "source": [
    "def s(a):\n",
    "    return a*2"
   ]
  },
  {
   "cell_type": "code",
   "execution_count": 32,
   "id": "584bbbe1",
   "metadata": {},
   "outputs": [
    {
     "data": {
      "text/plain": [
       "20"
      ]
     },
     "execution_count": 32,
     "metadata": {},
     "output_type": "execute_result"
    }
   ],
   "source": [
    "s = lambda a : a*2\n",
    "s(10)"
   ]
  },
  {
   "cell_type": "code",
   "execution_count": 44,
   "id": "7b0a724c",
   "metadata": {},
   "outputs": [
    {
     "data": {
      "text/plain": [
       "[15]"
      ]
     },
     "execution_count": 44,
     "metadata": {},
     "output_type": "execute_result"
    }
   ],
   "source": [
    "m = lambda a , b ,c : [(a*b) if a==5 else (1) ]\n",
    "m(5,3,4)"
   ]
  },
  {
   "cell_type": "code",
   "execution_count": 38,
   "id": "f6a8937e",
   "metadata": {},
   "outputs": [],
   "source": [
    "def s(a,b):\n",
    "    return a , b "
   ]
  },
  {
   "cell_type": "code",
   "execution_count": 39,
   "id": "f298671f",
   "metadata": {},
   "outputs": [
    {
     "data": {
      "text/plain": [
       "(2, 3)"
      ]
     },
     "execution_count": 39,
     "metadata": {},
     "output_type": "execute_result"
    }
   ],
   "source": [
    "s(2,3)"
   ]
  },
  {
   "cell_type": "markdown",
   "id": "0dec38d2",
   "metadata": {},
   "source": [
    "list(map(fun , squ))"
   ]
  },
  {
   "cell_type": "code",
   "execution_count": 58,
   "id": "e8de18c2",
   "metadata": {},
   "outputs": [],
   "source": [
    "def m(v):\n",
    "    return v * 2"
   ]
  },
  {
   "cell_type": "code",
   "execution_count": 59,
   "id": "9ef72877",
   "metadata": {
    "scrolled": true
   },
   "outputs": [
    {
     "data": {
      "text/plain": [
       "[2, 4, 6, 8, 10]"
      ]
     },
     "execution_count": 59,
     "metadata": {},
     "output_type": "execute_result"
    }
   ],
   "source": [
    "lst = [1,2,3,4,5]\n",
    "list( map( m , lst) )"
   ]
  },
  {
   "cell_type": "code",
   "execution_count": 62,
   "id": "1df457c3",
   "metadata": {},
   "outputs": [
    {
     "data": {
      "text/plain": [
       "[1, 2, 3, 4, 5]"
      ]
     },
     "execution_count": 62,
     "metadata": {},
     "output_type": "execute_result"
    }
   ],
   "source": [
    "lst"
   ]
  },
  {
   "cell_type": "code",
   "execution_count": 60,
   "id": "478570ec",
   "metadata": {},
   "outputs": [
    {
     "data": {
      "text/plain": [
       "[2, 4, 6, 8, 10]"
      ]
     },
     "execution_count": 60,
     "metadata": {},
     "output_type": "execute_result"
    }
   ],
   "source": [
    "list( map( lambda x : x*2 , lst)) "
   ]
  },
  {
   "cell_type": "code",
   "execution_count": 63,
   "id": "bd97e74b",
   "metadata": {},
   "outputs": [],
   "source": [
    "s = lambda x : x + 10"
   ]
  },
  {
   "cell_type": "code",
   "execution_count": 64,
   "id": "cc815a70",
   "metadata": {},
   "outputs": [
    {
     "data": {
      "text/plain": [
       "20"
      ]
     },
     "execution_count": 64,
     "metadata": {},
     "output_type": "execute_result"
    }
   ],
   "source": [
    "s(10)"
   ]
  },
  {
   "cell_type": "code",
   "execution_count": 68,
   "id": "8f138942",
   "metadata": {},
   "outputs": [],
   "source": [
    "def s(x):\n",
    "    m = x+10\n",
    "    return m"
   ]
  },
  {
   "cell_type": "code",
   "execution_count": 69,
   "id": "8b06ca5f",
   "metadata": {},
   "outputs": [
    {
     "data": {
      "text/plain": [
       "20"
      ]
     },
     "execution_count": 69,
     "metadata": {},
     "output_type": "execute_result"
    }
   ],
   "source": [
    "s(10)"
   ]
  },
  {
   "cell_type": "code",
   "execution_count": 166,
   "id": "624413ef",
   "metadata": {},
   "outputs": [],
   "source": [
    "class Cars:\n",
    "    def __init__(self, name1 , color1 , speed1):\n",
    "        self.__name = name1\n",
    "        self.__color = color1\n",
    "        self.__speed = speed1\n",
    "    def display(self):\n",
    "        print(f\"the car name is {self.__name} ,and the color is {self.__color}, and the speed is {self.__speed}  \")\n",
    "        \n",
    "        "
   ]
  },
  {
   "cell_type": "code",
   "execution_count": 164,
   "id": "65bbfd57",
   "metadata": {},
   "outputs": [],
   "source": [
    "bmw = Cars(\"bmw\" , \"red\" , 250)\n",
    "fiat = Cars(\"fiat\" , \"blue\" , 25)"
   ]
  },
  {
   "cell_type": "code",
   "execution_count": 165,
   "id": "829c4e01",
   "metadata": {},
   "outputs": [
    {
     "name": "stdout",
     "output_type": "stream",
     "text": [
      "the car name is bmw ,and the color is red, and the speed is 250  \n"
     ]
    }
   ],
   "source": [
    "bmw.display()"
   ]
  },
  {
   "cell_type": "code",
   "execution_count": 150,
   "id": "aa2e0d2b",
   "metadata": {},
   "outputs": [
    {
     "data": {
      "text/plain": [
       "'lfkglfkg'"
      ]
     },
     "execution_count": 150,
     "metadata": {},
     "output_type": "execute_result"
    }
   ],
   "source": [
    "bmw.__name = \"lfkglfkg\"\n",
    "bmw.__name"
   ]
  },
  {
   "cell_type": "code",
   "execution_count": 151,
   "id": "8349d4ab",
   "metadata": {},
   "outputs": [
    {
     "name": "stdout",
     "output_type": "stream",
     "text": [
      "the car name is bmw ,and the color is red, and the speed is 250  \n"
     ]
    }
   ],
   "source": [
    "bmw.display()"
   ]
  },
  {
   "cell_type": "code",
   "execution_count": 174,
   "id": "5545c81c",
   "metadata": {},
   "outputs": [],
   "source": [
    "class Bmw(Cars):\n",
    "    def __init__(self, name , color , speed , time):\n",
    "        super().__init__(name , color , speed)\n",
    "        self.__time = time\n",
    "        self.__speed = speed\n",
    "        \n",
    "    def auto(self):\n",
    "        print(f\"the time is  {self.__time}  ,  \")\n",
    "    def distance(self) :\n",
    "        print(f\"distance is {self.__speed/self.__time}\")\n",
    "            \n",
    "        "
   ]
  },
  {
   "cell_type": "code",
   "execution_count": 175,
   "id": "0f5fdc09",
   "metadata": {},
   "outputs": [],
   "source": [
    "bmw1 = Bmw(\"bmw_1\",\"red\", 240 , 10)"
   ]
  },
  {
   "cell_type": "code",
   "execution_count": 176,
   "id": "7ea7b3f0",
   "metadata": {},
   "outputs": [
    {
     "name": "stdout",
     "output_type": "stream",
     "text": [
      "the car name is bmw_1 ,and the color is red, and the speed is 240  \n"
     ]
    }
   ],
   "source": [
    "bmw1.display()"
   ]
  },
  {
   "cell_type": "code",
   "execution_count": 177,
   "id": "881f3037",
   "metadata": {},
   "outputs": [
    {
     "name": "stdout",
     "output_type": "stream",
     "text": [
      "the time is  10  ,  \n"
     ]
    }
   ],
   "source": [
    "bmw1.auto()"
   ]
  },
  {
   "cell_type": "code",
   "execution_count": 178,
   "id": "28db51a6",
   "metadata": {},
   "outputs": [
    {
     "name": "stdout",
     "output_type": "stream",
     "text": [
      "distance is 24.0\n"
     ]
    }
   ],
   "source": [
    "bmw1.distance()"
   ]
  },
  {
   "cell_type": "code",
   "execution_count": 199,
   "id": "f98d3d79",
   "metadata": {},
   "outputs": [],
   "source": [
    "class Cars:\n",
    "    counter = 0  #class attr\n",
    "    def __init__(self, name1 , color1 , speed1):\n",
    "        Cars.counter +=1 \n",
    "        self.__name = name1  #instance attr\n",
    "        self.__color = color1 #instance attr\n",
    "        self.__speed = speed1 #instance attr\n",
    "    def display(self):\n",
    "        print(f\"the car name is {self.__name} ,and the color is {self.__color}, and the speed is {self.__speed}  \")\n",
    "    \n",
    "    @classmethod\n",
    "    def count_obj(cls):\n",
    "        print(f\"the number of cars is {cls.counter}\")\n",
    "      \n",
    "    @staticmethod\n",
    "    def distance(time , speed) :\n",
    "        print(f\"distance is {speed/time}\")\n",
    "    \n",
    "bmw1 = Cars(\"bmw\" , \"red\" , 250)\n",
    "fiat1 = Cars(\"fiat\" , \"blue\" , 25)\n",
    "\n",
    "bmw2 = Cars(\"bmw\" , \"red\" , 250)\n",
    "fiat2 = Cars(\"fiat\" , \"blue\" , 25)\n",
    "\n",
    "bmw3 = Cars(\"bmw\" , \"red\" , 250)\n",
    "fiat3 = Cars(\"fiat\" , \"blue\" , 25)"
   ]
  },
  {
   "cell_type": "code",
   "execution_count": 200,
   "id": "3a7abe48",
   "metadata": {},
   "outputs": [
    {
     "name": "stdout",
     "output_type": "stream",
     "text": [
      "the number of cars is 6\n"
     ]
    }
   ],
   "source": [
    "bmw1.count_obj()"
   ]
  },
  {
   "cell_type": "code",
   "execution_count": 201,
   "id": "a5d82edf",
   "metadata": {},
   "outputs": [
    {
     "name": "stdout",
     "output_type": "stream",
     "text": [
      "the car name is bmw ,and the color is red, and the speed is 250  \n"
     ]
    }
   ],
   "source": [
    "bmw1.display()"
   ]
  },
  {
   "cell_type": "code",
   "execution_count": 202,
   "id": "60131eb4",
   "metadata": {},
   "outputs": [
    {
     "name": "stdout",
     "output_type": "stream",
     "text": [
      "distance is 25.0\n"
     ]
    }
   ],
   "source": [
    "bmw1.distance(10,250)"
   ]
  },
  {
   "cell_type": "code",
   "execution_count": null,
   "id": "02cdab3b",
   "metadata": {},
   "outputs": [],
   "source": []
  }
 ],
 "metadata": {
  "kernelspec": {
   "display_name": "Python 3 (ipykernel)",
   "language": "python",
   "name": "python3"
  },
  "language_info": {
   "codemirror_mode": {
    "name": "ipython",
    "version": 3
   },
   "file_extension": ".py",
   "mimetype": "text/x-python",
   "name": "python",
   "nbconvert_exporter": "python",
   "pygments_lexer": "ipython3",
   "version": "3.10.9"
  }
 },
 "nbformat": 4,
 "nbformat_minor": 5
}
