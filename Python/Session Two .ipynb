{
 "cells": [
  {
   "cell_type": "markdown",
   "id": "7dca8c4e",
   "metadata": {},
   "source": [
    "# List"
   ]
  },
  {
   "cell_type": "code",
   "execution_count": 12,
   "id": "2242def3",
   "metadata": {},
   "outputs": [],
   "source": [
    "lst = [1,2,3,4,5]"
   ]
  },
  {
   "cell_type": "code",
   "execution_count": 13,
   "id": "6f9a47a7",
   "metadata": {},
   "outputs": [
    {
     "data": {
      "text/plain": [
       "5"
      ]
     },
     "execution_count": 13,
     "metadata": {},
     "output_type": "execute_result"
    }
   ],
   "source": [
    "len(lst)"
   ]
  },
  {
   "cell_type": "code",
   "execution_count": 14,
   "id": "8aa0d2fa",
   "metadata": {},
   "outputs": [
    {
     "data": {
      "text/plain": [
       "list"
      ]
     },
     "execution_count": 14,
     "metadata": {},
     "output_type": "execute_result"
    }
   ],
   "source": [
    "type(lst)"
   ]
  },
  {
   "cell_type": "code",
   "execution_count": 15,
   "id": "76ddeb74",
   "metadata": {},
   "outputs": [],
   "source": [
    "lst.append(6)"
   ]
  },
  {
   "cell_type": "code",
   "execution_count": 16,
   "id": "54c2d811",
   "metadata": {},
   "outputs": [
    {
     "data": {
      "text/plain": [
       "[1, 2, 3, 4, 5, 6]"
      ]
     },
     "execution_count": 16,
     "metadata": {},
     "output_type": "execute_result"
    }
   ],
   "source": [
    "lst"
   ]
  },
  {
   "cell_type": "code",
   "execution_count": 25,
   "id": "b8ac0599",
   "metadata": {
    "scrolled": true
   },
   "outputs": [
    {
     "name": "stdout",
     "output_type": "stream",
     "text": [
      "enter the numbers3\n",
      "enter the numbers4\n",
      "enter the numbers5\n",
      "enter the numbers6\n",
      "enter the numbers7\n",
      "[3, 4, 5, 6, 7]\n"
     ]
    }
   ],
   "source": [
    "lst = []\n",
    "for i in range(5):\n",
    "    lst.append(int(input(\"enter the numbers\")))\n",
    "print(lst)"
   ]
  },
  {
   "cell_type": "code",
   "execution_count": 31,
   "id": "a9a6b1ea",
   "metadata": {},
   "outputs": [
    {
     "data": {
      "text/plain": [
       "[3, 4, 5, 6, 7, 7]"
      ]
     },
     "execution_count": 31,
     "metadata": {},
     "output_type": "execute_result"
    }
   ],
   "source": [
    "lst"
   ]
  },
  {
   "cell_type": "code",
   "execution_count": 32,
   "id": "02ce57e4",
   "metadata": {},
   "outputs": [],
   "source": [
    "# remove the item \n",
    "lst.remove(7)"
   ]
  },
  {
   "cell_type": "code",
   "execution_count": 34,
   "id": "34b135d1",
   "metadata": {},
   "outputs": [],
   "source": [
    "# lst.insert(index , item)\n",
    "lst.insert(0,7)"
   ]
  },
  {
   "cell_type": "code",
   "execution_count": 35,
   "id": "6450527b",
   "metadata": {},
   "outputs": [
    {
     "data": {
      "text/plain": [
       "[7, 3, 4, 5, 6, 7]"
      ]
     },
     "execution_count": 35,
     "metadata": {},
     "output_type": "execute_result"
    }
   ],
   "source": [
    "lst"
   ]
  },
  {
   "cell_type": "code",
   "execution_count": 36,
   "id": "193e51a8",
   "metadata": {},
   "outputs": [],
   "source": [
    "lst.remove(7)"
   ]
  },
  {
   "cell_type": "code",
   "execution_count": 39,
   "id": "fbfb8746",
   "metadata": {
    "scrolled": true
   },
   "outputs": [
    {
     "name": "stdout",
     "output_type": "stream",
     "text": [
      "[4, 5, 6, 7]\n",
      "[5, 6, 7]\n"
     ]
    }
   ],
   "source": [
    "print(lst)\n",
    "lst.pop(0)\n",
    "print(lst)"
   ]
  },
  {
   "cell_type": "code",
   "execution_count": 7,
   "id": "ae847669",
   "metadata": {},
   "outputs": [
    {
     "data": {
      "text/plain": [
       "[2, 4, 5, 6, 4, 3, 4, 5]"
      ]
     },
     "execution_count": 7,
     "metadata": {},
     "output_type": "execute_result"
    }
   ],
   "source": [
    "lst2 = [2,4,5,6,7,4,7,7,7,3,7,4,5]\n",
    "lst3 = []\n",
    "for i in lst2:\n",
    "    if i != 7:\n",
    "        lst3.append(i)\n",
    "        \n",
    "lst3"
   ]
  },
  {
   "cell_type": "code",
   "execution_count": 12,
   "id": "f9afe959",
   "metadata": {},
   "outputs": [
    {
     "data": {
      "text/plain": [
       "[2, 3, 4, 4, 4, 5, 5, 6]"
      ]
     },
     "execution_count": 12,
     "metadata": {},
     "output_type": "execute_result"
    }
   ],
   "source": [
    "lst3.sort()\n",
    "lst3"
   ]
  },
  {
   "cell_type": "code",
   "execution_count": 13,
   "id": "700793fb",
   "metadata": {},
   "outputs": [
    {
     "name": "stdout",
     "output_type": "stream",
     "text": [
      "the min value is 2 ,an the max value is 6\n"
     ]
    }
   ],
   "source": [
    "print(f\"the min value is {lst3[0] } ,an the max value is {lst3[-1]}\")"
   ]
  },
  {
   "cell_type": "code",
   "execution_count": 15,
   "id": "20cb0e41",
   "metadata": {},
   "outputs": [
    {
     "name": "stdout",
     "output_type": "stream",
     "text": [
      "the min value is 2 ,an the max value is 6\n"
     ]
    }
   ],
   "source": [
    "print(f\"the min value is {min(lst3)} ,an the max value is {max(lst3)}\")"
   ]
  },
  {
   "cell_type": "code",
   "execution_count": 23,
   "id": "82b0ef86",
   "metadata": {},
   "outputs": [
    {
     "data": {
      "text/plain": [
       "33"
      ]
     },
     "execution_count": 23,
     "metadata": {},
     "output_type": "execute_result"
    }
   ],
   "source": [
    "sum(lst3)"
   ]
  },
  {
   "cell_type": "code",
   "execution_count": 25,
   "id": "b2e68943",
   "metadata": {},
   "outputs": [
    {
     "name": "stdout",
     "output_type": "stream",
     "text": [
      "33\n"
     ]
    }
   ],
   "source": [
    "s = 0\n",
    "for i in [2, 3, 4, 4, 4, 5, 5, 6]:\n",
    "    s = s + i\n",
    "print(s)"
   ]
  },
  {
   "cell_type": "code",
   "execution_count": 28,
   "id": "1890d8d0",
   "metadata": {},
   "outputs": [
    {
     "data": {
      "text/plain": [
       "[2, 3, 4, 4, 4, 5, 5, 6]"
      ]
     },
     "execution_count": 28,
     "metadata": {},
     "output_type": "execute_result"
    }
   ],
   "source": [
    "lst3"
   ]
  },
  {
   "cell_type": "code",
   "execution_count": 30,
   "id": "ea4fe7cf",
   "metadata": {},
   "outputs": [
    {
     "data": {
      "text/plain": [
       "[2, 3, 4, 4, 4]"
      ]
     },
     "execution_count": 30,
     "metadata": {},
     "output_type": "execute_result"
    }
   ],
   "source": [
    "lst3[0:5]"
   ]
  },
  {
   "cell_type": "code",
   "execution_count": 32,
   "id": "c9ae11a0",
   "metadata": {
    "scrolled": true
   },
   "outputs": [
    {
     "name": "stdout",
     "output_type": "stream",
     "text": [
      "2 even\n",
      "3 odd\n",
      "4 even\n",
      "4 even\n",
      "4 even\n",
      "5 odd\n",
      "5 odd\n",
      "6 even\n"
     ]
    }
   ],
   "source": [
    "for i in lst3:\n",
    "    if i % 2 == 0:\n",
    "        print(f\"{i} even\")\n",
    "    else:\n",
    "        print(f\"{i} odd\")"
   ]
  },
  {
   "cell_type": "code",
   "execution_count": 35,
   "id": "9d91baf3",
   "metadata": {},
   "outputs": [
    {
     "data": {
      "text/plain": [
       "[2, 3, 4, 4, 4, 5, 5, 6]"
      ]
     },
     "execution_count": 35,
     "metadata": {},
     "output_type": "execute_result"
    }
   ],
   "source": [
    "lst3"
   ]
  },
  {
   "cell_type": "code",
   "execution_count": 37,
   "id": "ccc2a98e",
   "metadata": {},
   "outputs": [
    {
     "data": {
      "text/plain": [
       "1"
      ]
     },
     "execution_count": 37,
     "metadata": {},
     "output_type": "execute_result"
    }
   ],
   "source": [
    "lst3.count(2)"
   ]
  },
  {
   "cell_type": "code",
   "execution_count": 42,
   "id": "73a1e6d9",
   "metadata": {},
   "outputs": [],
   "source": [
    "if 3 ==3 :\n",
    "    x  = 3\n",
    "else:\n",
    "    x =4"
   ]
  },
  {
   "cell_type": "code",
   "execution_count": 41,
   "id": "1154bf38",
   "metadata": {},
   "outputs": [
    {
     "data": {
      "text/plain": [
       "3"
      ]
     },
     "execution_count": 41,
     "metadata": {},
     "output_type": "execute_result"
    }
   ],
   "source": [
    "x = 3 if 3 == 3 else 4\n",
    "x"
   ]
  },
  {
   "cell_type": "code",
   "execution_count": 60,
   "id": "63beae68",
   "metadata": {
    "scrolled": true
   },
   "outputs": [
    {
     "data": {
      "text/plain": [
       "[4, 9, 16, 16, 16, 25, 25, 36]"
      ]
     },
     "execution_count": 60,
     "metadata": {},
     "output_type": "execute_result"
    }
   ],
   "source": [
    "ls = [i * i  for i in lst3]\n",
    "lst4 = ls.copy()\n",
    "lst4"
   ]
  },
  {
   "cell_type": "code",
   "execution_count": 66,
   "id": "27326a46",
   "metadata": {},
   "outputs": [
    {
     "data": {
      "text/plain": [
       "[4, 9, 16, 16, 16, 25, 25, 36]"
      ]
     },
     "execution_count": 66,
     "metadata": {},
     "output_type": "execute_result"
    }
   ],
   "source": [
    "ls"
   ]
  },
  {
   "cell_type": "code",
   "execution_count": 62,
   "id": "145f2de0",
   "metadata": {},
   "outputs": [],
   "source": [
    "lst4.clear()"
   ]
  },
  {
   "cell_type": "code",
   "execution_count": 63,
   "id": "0d70042e",
   "metadata": {},
   "outputs": [
    {
     "data": {
      "text/plain": [
       "2118207387968"
      ]
     },
     "execution_count": 63,
     "metadata": {},
     "output_type": "execute_result"
    }
   ],
   "source": [
    "id(lst4)"
   ]
  },
  {
   "cell_type": "code",
   "execution_count": 50,
   "id": "0e558bec",
   "metadata": {},
   "outputs": [
    {
     "data": {
      "text/plain": [
       "[2, 3, 4, 4, 4, 5, 5, 6]"
      ]
     },
     "execution_count": 50,
     "metadata": {},
     "output_type": "execute_result"
    }
   ],
   "source": [
    "lst3"
   ]
  },
  {
   "cell_type": "code",
   "execution_count": 67,
   "id": "1f3a252d",
   "metadata": {},
   "outputs": [
    {
     "data": {
      "text/plain": [
       "[2, 3, 4, 4, 4, 5, 5, 6]"
      ]
     },
     "execution_count": 67,
     "metadata": {},
     "output_type": "execute_result"
    }
   ],
   "source": [
    "lst3"
   ]
  },
  {
   "cell_type": "code",
   "execution_count": 140,
   "id": "034f6600",
   "metadata": {},
   "outputs": [
    {
     "name": "stdout",
     "output_type": "stream",
     "text": [
      "the count of odd nums is: 3\n",
      " and the count of even is: 5\n"
     ]
    }
   ],
   "source": [
    "ls3 = []\n",
    "for i in lst3:\n",
    "    if i % 2 == 0 :\n",
    "        ls3.append(0)\n",
    "    else:\n",
    "        ls3.append(1)\n",
    "print(f\"the count of odd nums is: {ls3.count(1)}\\n and the count of even is: {ls3.count(0)}\")"
   ]
  },
  {
   "cell_type": "code",
   "execution_count": 76,
   "id": "8f30d92f",
   "metadata": {},
   "outputs": [
    {
     "name": "stdout",
     "output_type": "stream",
     "text": [
      "[6, 5, 5, 4, 4, 4, 3, 2]\n"
     ]
    },
    {
     "data": {
      "text/plain": [
       "[2, 3, 4, 4, 4, 5, 5, 6]"
      ]
     },
     "execution_count": 76,
     "metadata": {},
     "output_type": "execute_result"
    }
   ],
   "source": [
    "print(lst3)\n",
    "lst3.reverse()\n",
    "lst3"
   ]
  },
  {
   "cell_type": "code",
   "execution_count": 78,
   "id": "e4057e42",
   "metadata": {},
   "outputs": [
    {
     "data": {
      "text/plain": [
       "['a', 'm', 'i', 't']"
      ]
     },
     "execution_count": 78,
     "metadata": {},
     "output_type": "execute_result"
    }
   ],
   "source": [
    "s = list(\"amit\")\n",
    "s"
   ]
  },
  {
   "cell_type": "code",
   "execution_count": null,
   "id": "880485be",
   "metadata": {},
   "outputs": [],
   "source": []
  },
  {
   "cell_type": "markdown",
   "id": "98a38feb",
   "metadata": {},
   "source": [
    "# Tuple "
   ]
  },
  {
   "cell_type": "code",
   "execution_count": 80,
   "id": "a445b379",
   "metadata": {},
   "outputs": [
    {
     "data": {
      "text/plain": [
       "tuple"
      ]
     },
     "execution_count": 80,
     "metadata": {},
     "output_type": "execute_result"
    }
   ],
   "source": [
    "t = (1,2,3,4,5,6)\n",
    "type(t)"
   ]
  },
  {
   "cell_type": "code",
   "execution_count": 81,
   "id": "36ae55d7",
   "metadata": {},
   "outputs": [
    {
     "data": {
      "text/plain": [
       "6"
      ]
     },
     "execution_count": 81,
     "metadata": {},
     "output_type": "execute_result"
    }
   ],
   "source": [
    "len(t)"
   ]
  },
  {
   "cell_type": "code",
   "execution_count": 87,
   "id": "10b45f1c",
   "metadata": {},
   "outputs": [
    {
     "data": {
      "text/plain": [
       "(4, 3, 4, 4, 4, 5, 5, 6)"
      ]
     },
     "execution_count": 87,
     "metadata": {},
     "output_type": "execute_result"
    }
   ],
   "source": [
    "t2 = tuple(lst3)\n",
    "t2"
   ]
  },
  {
   "cell_type": "code",
   "execution_count": 89,
   "id": "16cbfc0b",
   "metadata": {},
   "outputs": [
    {
     "ename": "TypeError",
     "evalue": "'tuple' object does not support item assignment",
     "output_type": "error",
     "traceback": [
      "\u001b[1;31m---------------------------------------------------------------------------\u001b[0m",
      "\u001b[1;31mTypeError\u001b[0m                                 Traceback (most recent call last)",
      "Cell \u001b[1;32mIn[89], line 1\u001b[0m\n\u001b[1;32m----> 1\u001b[0m t2[\u001b[38;5;241m0\u001b[39m] \u001b[38;5;241m=\u001b[39m \u001b[38;5;241m10\u001b[39m\n",
      "\u001b[1;31mTypeError\u001b[0m: 'tuple' object does not support item assignment"
     ]
    }
   ],
   "source": [
    "t2[0] = 10"
   ]
  },
  {
   "cell_type": "code",
   "execution_count": 90,
   "id": "3f7eefd9",
   "metadata": {},
   "outputs": [
    {
     "data": {
      "text/plain": [
       "(4, 4, 4)"
      ]
     },
     "execution_count": 90,
     "metadata": {},
     "output_type": "execute_result"
    }
   ],
   "source": [
    "t2[0:5:2]"
   ]
  },
  {
   "cell_type": "code",
   "execution_count": 91,
   "id": "a86725fc",
   "metadata": {},
   "outputs": [
    {
     "data": {
      "text/plain": [
       "[4, 3, 4, 4, 4, 5, 5, 6]"
      ]
     },
     "execution_count": 91,
     "metadata": {},
     "output_type": "execute_result"
    }
   ],
   "source": [
    "lst = list(t2)\n",
    "lst"
   ]
  },
  {
   "cell_type": "code",
   "execution_count": 96,
   "id": "68a59891",
   "metadata": {},
   "outputs": [],
   "source": [
    "t2 = t2+ (3,)\n"
   ]
  },
  {
   "cell_type": "code",
   "execution_count": 101,
   "id": "1ee5cc7c",
   "metadata": {},
   "outputs": [
    {
     "name": "stdout",
     "output_type": "stream",
     "text": [
      "out of range\n"
     ]
    }
   ],
   "source": [
    "try:\n",
    "    t2.index(0)\n",
    "except:\n",
    "    print(\"out of range\")"
   ]
  },
  {
   "cell_type": "code",
   "execution_count": null,
   "id": "968555d0",
   "metadata": {},
   "outputs": [],
   "source": []
  },
  {
   "cell_type": "markdown",
   "id": "c8afb5e2",
   "metadata": {},
   "source": [
    "# Set"
   ]
  },
  {
   "cell_type": "code",
   "execution_count": 111,
   "id": "4422f30e",
   "metadata": {},
   "outputs": [],
   "source": [
    "A  =  {1,2,3}\n",
    "B  =  {3,4,5}"
   ]
  },
  {
   "cell_type": "code",
   "execution_count": 112,
   "id": "ca160e5e",
   "metadata": {
    "scrolled": true
   },
   "outputs": [
    {
     "data": {
      "text/plain": [
       "(set, set)"
      ]
     },
     "execution_count": 112,
     "metadata": {},
     "output_type": "execute_result"
    }
   ],
   "source": [
    "type(A) , type(B)"
   ]
  },
  {
   "cell_type": "code",
   "execution_count": 113,
   "id": "2977dde2",
   "metadata": {},
   "outputs": [
    {
     "data": {
      "text/plain": [
       "{3}"
      ]
     },
     "execution_count": 113,
     "metadata": {},
     "output_type": "execute_result"
    }
   ],
   "source": [
    "A.intersection(B)"
   ]
  },
  {
   "cell_type": "code",
   "execution_count": 114,
   "id": "776c8030",
   "metadata": {},
   "outputs": [
    {
     "data": {
      "text/plain": [
       "{1, 2, 3}"
      ]
     },
     "execution_count": 114,
     "metadata": {},
     "output_type": "execute_result"
    }
   ],
   "source": [
    "A"
   ]
  },
  {
   "cell_type": "code",
   "execution_count": 115,
   "id": "86fbd654",
   "metadata": {
    "scrolled": true
   },
   "outputs": [
    {
     "data": {
      "text/plain": [
       "{3}"
      ]
     },
     "execution_count": 115,
     "metadata": {},
     "output_type": "execute_result"
    }
   ],
   "source": [
    "A.intersection_update(B)\n",
    "A"
   ]
  },
  {
   "cell_type": "code",
   "execution_count": 117,
   "id": "8372f3cf",
   "metadata": {},
   "outputs": [
    {
     "data": {
      "text/plain": [
       "{3, 4}"
      ]
     },
     "execution_count": 117,
     "metadata": {},
     "output_type": "execute_result"
    }
   ],
   "source": [
    "A.add(4)\n",
    "A"
   ]
  },
  {
   "cell_type": "code",
   "execution_count": 106,
   "id": "ebeb9868",
   "metadata": {},
   "outputs": [
    {
     "data": {
      "text/plain": [
       "{1, 2, 3, 4, 5}"
      ]
     },
     "execution_count": 106,
     "metadata": {},
     "output_type": "execute_result"
    }
   ],
   "source": [
    "A.union(B)"
   ]
  },
  {
   "cell_type": "code",
   "execution_count": 107,
   "id": "56f7505f",
   "metadata": {},
   "outputs": [],
   "source": [
    "lst = [1,2,1,1,1,1,1,3,4,5,6,7,6,5,5]"
   ]
  },
  {
   "cell_type": "code",
   "execution_count": 118,
   "id": "3dca2b9e",
   "metadata": {},
   "outputs": [
    {
     "data": {
      "text/plain": [
       "{1, 2, 3, 4, 5, 6, 7}"
      ]
     },
     "execution_count": 118,
     "metadata": {},
     "output_type": "execute_result"
    }
   ],
   "source": [
    "s = set(lst)\n",
    "s"
   ]
  },
  {
   "cell_type": "code",
   "execution_count": 122,
   "id": "1d1a2906",
   "metadata": {},
   "outputs": [],
   "source": [
    "s.remove\n"
   ]
  },
  {
   "cell_type": "code",
   "execution_count": 128,
   "id": "d4e9d9c2",
   "metadata": {
    "scrolled": true
   },
   "outputs": [
    {
     "name": "stdout",
     "output_type": "stream",
     "text": [
      "Help on built-in function print in module builtins:\n",
      "\n",
      "print(...)\n",
      "    print(value, ..., sep=' ', end='\\n', file=sys.stdout, flush=False)\n",
      "    \n",
      "    Prints the values to a stream, or to sys.stdout by default.\n",
      "    Optional keyword arguments:\n",
      "    file:  a file-like object (stream); defaults to the current sys.stdout.\n",
      "    sep:   string inserted between values, default a space.\n",
      "    end:   string appended after the last value, default a newline.\n",
      "    flush: whether to forcibly flush the stream.\n",
      "\n"
     ]
    }
   ],
   "source": [
    "help(print)"
   ]
  },
  {
   "cell_type": "code",
   "execution_count": 127,
   "id": "1802e6e6",
   "metadata": {},
   "outputs": [
    {
     "data": {
      "text/plain": [
       "['ArithmeticError',\n",
       " 'AssertionError',\n",
       " 'AttributeError',\n",
       " 'BaseException',\n",
       " 'BlockingIOError',\n",
       " 'BrokenPipeError',\n",
       " 'BufferError',\n",
       " 'BytesWarning',\n",
       " 'ChildProcessError',\n",
       " 'ConnectionAbortedError',\n",
       " 'ConnectionError',\n",
       " 'ConnectionRefusedError',\n",
       " 'ConnectionResetError',\n",
       " 'DeprecationWarning',\n",
       " 'EOFError',\n",
       " 'Ellipsis',\n",
       " 'EncodingWarning',\n",
       " 'EnvironmentError',\n",
       " 'Exception',\n",
       " 'False',\n",
       " 'FileExistsError',\n",
       " 'FileNotFoundError',\n",
       " 'FloatingPointError',\n",
       " 'FutureWarning',\n",
       " 'GeneratorExit',\n",
       " 'IOError',\n",
       " 'ImportError',\n",
       " 'ImportWarning',\n",
       " 'IndentationError',\n",
       " 'IndexError',\n",
       " 'InterruptedError',\n",
       " 'IsADirectoryError',\n",
       " 'KeyError',\n",
       " 'KeyboardInterrupt',\n",
       " 'LookupError',\n",
       " 'MemoryError',\n",
       " 'ModuleNotFoundError',\n",
       " 'NameError',\n",
       " 'None',\n",
       " 'NotADirectoryError',\n",
       " 'NotImplemented',\n",
       " 'NotImplementedError',\n",
       " 'OSError',\n",
       " 'OverflowError',\n",
       " 'PendingDeprecationWarning',\n",
       " 'PermissionError',\n",
       " 'ProcessLookupError',\n",
       " 'RecursionError',\n",
       " 'ReferenceError',\n",
       " 'ResourceWarning',\n",
       " 'RuntimeError',\n",
       " 'RuntimeWarning',\n",
       " 'StopAsyncIteration',\n",
       " 'StopIteration',\n",
       " 'SyntaxError',\n",
       " 'SyntaxWarning',\n",
       " 'SystemError',\n",
       " 'SystemExit',\n",
       " 'TabError',\n",
       " 'TimeoutError',\n",
       " 'True',\n",
       " 'TypeError',\n",
       " 'UnboundLocalError',\n",
       " 'UnicodeDecodeError',\n",
       " 'UnicodeEncodeError',\n",
       " 'UnicodeError',\n",
       " 'UnicodeTranslateError',\n",
       " 'UnicodeWarning',\n",
       " 'UserWarning',\n",
       " 'ValueError',\n",
       " 'Warning',\n",
       " 'WindowsError',\n",
       " 'ZeroDivisionError',\n",
       " '__IPYTHON__',\n",
       " '__build_class__',\n",
       " '__debug__',\n",
       " '__doc__',\n",
       " '__import__',\n",
       " '__loader__',\n",
       " '__name__',\n",
       " '__package__',\n",
       " '__spec__',\n",
       " 'abs',\n",
       " 'aiter',\n",
       " 'all',\n",
       " 'anext',\n",
       " 'any',\n",
       " 'ascii',\n",
       " 'bin',\n",
       " 'bool',\n",
       " 'breakpoint',\n",
       " 'bytearray',\n",
       " 'bytes',\n",
       " 'callable',\n",
       " 'chr',\n",
       " 'classmethod',\n",
       " 'compile',\n",
       " 'complex',\n",
       " 'copyright',\n",
       " 'credits',\n",
       " 'delattr',\n",
       " 'dict',\n",
       " 'dir',\n",
       " 'display',\n",
       " 'divmod',\n",
       " 'enumerate',\n",
       " 'eval',\n",
       " 'exec',\n",
       " 'execfile',\n",
       " 'filter',\n",
       " 'float',\n",
       " 'format',\n",
       " 'frozenset',\n",
       " 'get_ipython',\n",
       " 'getattr',\n",
       " 'globals',\n",
       " 'hasattr',\n",
       " 'hash',\n",
       " 'help',\n",
       " 'hex',\n",
       " 'id',\n",
       " 'input',\n",
       " 'int',\n",
       " 'isinstance',\n",
       " 'issubclass',\n",
       " 'iter',\n",
       " 'len',\n",
       " 'license',\n",
       " 'list',\n",
       " 'locals',\n",
       " 'map',\n",
       " 'max',\n",
       " 'memoryview',\n",
       " 'min',\n",
       " 'next',\n",
       " 'object',\n",
       " 'oct',\n",
       " 'open',\n",
       " 'ord',\n",
       " 'pow',\n",
       " 'print',\n",
       " 'property',\n",
       " 'range',\n",
       " 'repr',\n",
       " 'reversed',\n",
       " 'round',\n",
       " 'runfile',\n",
       " 'set',\n",
       " 'setattr',\n",
       " 'slice',\n",
       " 'sorted',\n",
       " 'staticmethod',\n",
       " 'str',\n",
       " 'sum',\n",
       " 'super',\n",
       " 'tuple',\n",
       " 'type',\n",
       " 'vars',\n",
       " 'zip']"
      ]
     },
     "execution_count": 127,
     "metadata": {},
     "output_type": "execute_result"
    }
   ],
   "source": [
    "import builtins\n",
    "dir(builtins)"
   ]
  },
  {
   "cell_type": "code",
   "execution_count": 135,
   "id": "ae2dd192",
   "metadata": {},
   "outputs": [
    {
     "name": "stdout",
     "output_type": "stream",
     "text": [
      "hello\thello\n"
     ]
    }
   ],
   "source": [
    "print(\"hello\" , end= '\\t' )\n",
    "print(\"hello\")"
   ]
  },
  {
   "cell_type": "markdown",
   "id": "b7d30b67",
   "metadata": {},
   "source": [
    "# Dictionary"
   ]
  },
  {
   "cell_type": "code",
   "execution_count": 3,
   "id": "5cd46e01",
   "metadata": {
    "scrolled": true
   },
   "outputs": [
    {
     "name": "stdout",
     "output_type": "stream",
     "text": [
      "{'key1': 0, 'key2': 0, 'key3': 0}\n"
     ]
    }
   ],
   "source": [
    "x = ('key1', 'key2', 'key3')\n",
    "y = 0\n",
    "\n",
    "thisdict = dict.fromkeys(x, y)\n",
    "\n",
    "print(thisdict)"
   ]
  },
  {
   "cell_type": "code",
   "execution_count": 144,
   "id": "3a0a4ca6",
   "metadata": {},
   "outputs": [],
   "source": [
    "d = {\"key1\":\"value\" , \"key2\":\"value\"}"
   ]
  },
  {
   "cell_type": "code",
   "execution_count": 145,
   "id": "56670b72",
   "metadata": {},
   "outputs": [
    {
     "data": {
      "text/plain": [
       "23"
      ]
     },
     "execution_count": 145,
     "metadata": {},
     "output_type": "execute_result"
    }
   ],
   "source": [
    "d[\"key1\"]"
   ]
  },
  {
   "cell_type": "code",
   "execution_count": 146,
   "id": "24f273b6",
   "metadata": {},
   "outputs": [],
   "source": [
    "d2= {\"name\":[\"ahmed\",\"sayed\"] , \"age\": 40 , \"courses\":['a','b','c']}"
   ]
  },
  {
   "cell_type": "code",
   "execution_count": 149,
   "id": "896bbe11",
   "metadata": {},
   "outputs": [
    {
     "data": {
      "text/plain": [
       "dict"
      ]
     },
     "execution_count": 149,
     "metadata": {},
     "output_type": "execute_result"
    }
   ],
   "source": [
    "type(d2)"
   ]
  },
  {
   "cell_type": "code",
   "execution_count": 150,
   "id": "c964383d",
   "metadata": {},
   "outputs": [],
   "source": [
    "d2[\"courses\"] = \"dfdf\""
   ]
  },
  {
   "cell_type": "code",
   "execution_count": 152,
   "id": "c159da16",
   "metadata": {},
   "outputs": [
    {
     "data": {
      "text/plain": [
       "dict_keys(['name', 'age', 'courses'])"
      ]
     },
     "execution_count": 152,
     "metadata": {},
     "output_type": "execute_result"
    }
   ],
   "source": [
    "d2.keys()"
   ]
  },
  {
   "cell_type": "code",
   "execution_count": 153,
   "id": "9c950ec9",
   "metadata": {},
   "outputs": [
    {
     "data": {
      "text/plain": [
       "dict_values(['ahmed', 40, 'dfdf'])"
      ]
     },
     "execution_count": 153,
     "metadata": {},
     "output_type": "execute_result"
    }
   ],
   "source": [
    "d2.values()"
   ]
  },
  {
   "cell_type": "code",
   "execution_count": 167,
   "id": "49511cc4",
   "metadata": {},
   "outputs": [
    {
     "data": {
      "text/plain": [
       "3"
      ]
     },
     "execution_count": 167,
     "metadata": {},
     "output_type": "execute_result"
    }
   ],
   "source": [
    "len(d2['k4'])"
   ]
  },
  {
   "cell_type": "code",
   "execution_count": 164,
   "id": "432f802a",
   "metadata": {},
   "outputs": [
    {
     "data": {
      "text/plain": [
       "{'name': 'ahmed', 'age': 40, 'courses': 'dfdf', 'k4': [10, 20, 10]}"
      ]
     },
     "execution_count": 164,
     "metadata": {},
     "output_type": "execute_result"
    }
   ],
   "source": [
    "d2"
   ]
  },
  {
   "cell_type": "code",
   "execution_count": 168,
   "id": "d18ad49c",
   "metadata": {},
   "outputs": [],
   "source": [
    "d = {'k1':[1,2,{'k2':['this is tricky',{'ahmed':[1,2,['hello']]}]}]}"
   ]
  },
  {
   "cell_type": "code",
   "execution_count": 184,
   "id": "c6846cb3",
   "metadata": {},
   "outputs": [],
   "source": [
    "d['k1'][2]['k2'][1]['ahmed'][2][0]=d['k1'][2]['k2'][1]['ahmed'][2][0].upper()"
   ]
  },
  {
   "cell_type": "code",
   "execution_count": 179,
   "id": "8402ef67",
   "metadata": {},
   "outputs": [
    {
     "data": {
      "text/plain": [
       "dict_keys(['k1'])"
      ]
     },
     "execution_count": 179,
     "metadata": {},
     "output_type": "execute_result"
    }
   ],
   "source": [
    "d.keys()"
   ]
  },
  {
   "cell_type": "code",
   "execution_count": 185,
   "id": "a1d12a3c",
   "metadata": {},
   "outputs": [
    {
     "data": {
      "text/plain": [
       "{'k1': [1, 2, {'k2': ['this is tricky', {'ahmed': [1, 2, ['HELLO']]}]}]}"
      ]
     },
     "execution_count": 185,
     "metadata": {},
     "output_type": "execute_result"
    }
   ],
   "source": [
    "d"
   ]
  },
  {
   "cell_type": "code",
   "execution_count": 188,
   "id": "89a5466d",
   "metadata": {},
   "outputs": [],
   "source": [
    "d = {'k1':[1,2,{'k2':['this is tricky',{'ahmed':[1,2,['hello']]}]}] , 'k2':2}"
   ]
  },
  {
   "cell_type": "code",
   "execution_count": 189,
   "id": "7fc6794c",
   "metadata": {},
   "outputs": [
    {
     "data": {
      "text/plain": [
       "dict_keys(['k1', 'k2'])"
      ]
     },
     "execution_count": 189,
     "metadata": {},
     "output_type": "execute_result"
    }
   ],
   "source": [
    "d.keys()"
   ]
  },
  {
   "cell_type": "code",
   "execution_count": null,
   "id": "08772da5",
   "metadata": {},
   "outputs": [],
   "source": [
    "def "
   ]
  }
 ],
 "metadata": {
  "kernelspec": {
   "display_name": "Python 3 (ipykernel)",
   "language": "python",
   "name": "python3"
  },
  "language_info": {
   "codemirror_mode": {
    "name": "ipython",
    "version": 3
   },
   "file_extension": ".py",
   "mimetype": "text/x-python",
   "name": "python",
   "nbconvert_exporter": "python",
   "pygments_lexer": "ipython3",
   "version": "3.10.9"
  }
 },
 "nbformat": 4,
 "nbformat_minor": 5
}
