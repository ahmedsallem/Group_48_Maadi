{
 "cells": [
  {
   "cell_type": "code",
   "execution_count": 11,
   "id": "069827d7",
   "metadata": {},
   "outputs": [],
   "source": [
    "m1 = [[1,2],\n",
    "      [2,3],\n",
    "      [3,4]]\n",
    "m2 = [[3,4],\n",
    "      [4,5],\n",
    "      [5,6]]\n",
    "res = [[0,0],[0,0],[0,0]]"
   ]
  },
  {
   "cell_type": "code",
   "execution_count": 15,
   "id": "7537cf90",
   "metadata": {},
   "outputs": [
    {
     "name": "stdout",
     "output_type": "stream",
     "text": [
      "[4, 6]\n",
      "[6, 8]\n",
      "[8, 10]\n"
     ]
    }
   ],
   "source": [
    "for i in range(len(m1)):\n",
    "    for j in range(len(m2[0])):\n",
    "        res[i][j] = m1[i][j] + m2[i][j]\n",
    "        \n",
    "for i in res:\n",
    "    print(i)"
   ]
  },
  {
   "cell_type": "code",
   "execution_count": 17,
   "id": "df567fe5",
   "metadata": {},
   "outputs": [],
   "source": [
    "v1 = [1,2,3]\n",
    "v2 = [2,3,4]\n",
    "def add(w1 , w2):\n",
    "    res = []\n",
    "    if len(w1) == len(w2):\n",
    "        for i in range(len(w1)):\n",
    "            res.append(w1[i] + w2[i])\n",
    "    return res"
   ]
  },
  {
   "cell_type": "code",
   "execution_count": 18,
   "id": "0c0b5fe7",
   "metadata": {},
   "outputs": [
    {
     "data": {
      "text/plain": [
       "[3, 5, 7]"
      ]
     },
     "execution_count": 18,
     "metadata": {},
     "output_type": "execute_result"
    }
   ],
   "source": [
    "add(v1,v2)"
   ]
  },
  {
   "cell_type": "code",
   "execution_count": 19,
   "id": "210e3f8b",
   "metadata": {},
   "outputs": [
    {
     "data": {
      "text/plain": [
       "[3, 5, 7]"
      ]
     },
     "execution_count": 19,
     "metadata": {},
     "output_type": "execute_result"
    }
   ],
   "source": [
    "[i + x for i , x in zip(v1,v2) ]"
   ]
  },
  {
   "cell_type": "code",
   "execution_count": 25,
   "id": "3d3470eb",
   "metadata": {},
   "outputs": [],
   "source": [
    "lst = [i + x for i , x in zip(v1,v2)] if len(v1) == len(v2) else print(False)"
   ]
  },
  {
   "cell_type": "code",
   "execution_count": 26,
   "id": "bade551a",
   "metadata": {},
   "outputs": [
    {
     "data": {
      "text/plain": [
       "[3, 5, 7]"
      ]
     },
     "execution_count": 26,
     "metadata": {},
     "output_type": "execute_result"
    }
   ],
   "source": [
    "lst"
   ]
  },
  {
   "cell_type": "code",
   "execution_count": 31,
   "id": "8b52d2d9",
   "metadata": {},
   "outputs": [],
   "source": [
    "# list(map(lambda x : x*2 , v1))"
   ]
  },
  {
   "cell_type": "code",
   "execution_count": 33,
   "id": "a831ca63",
   "metadata": {},
   "outputs": [
    {
     "name": "stdout",
     "output_type": "stream",
     "text": [
      "erorrrrrrrrrrr\n"
     ]
    }
   ],
   "source": [
    "v1 = [1,2,3]\n",
    "v2 = [2,3,4,3]\n",
    "try:\n",
    "    assert len(v1) == len(v2)\n",
    "except:\n",
    "    print(\"erorrrrrrrrrrr\")"
   ]
  },
  {
   "cell_type": "code",
   "execution_count": 34,
   "id": "89a53796",
   "metadata": {},
   "outputs": [
    {
     "ename": "AssertionError",
     "evalue": "error",
     "output_type": "error",
     "traceback": [
      "\u001b[1;31m---------------------------------------------------------------------------\u001b[0m",
      "\u001b[1;31mAssertionError\u001b[0m                            Traceback (most recent call last)",
      "Cell \u001b[1;32mIn[34], line 1\u001b[0m\n\u001b[1;32m----> 1\u001b[0m \u001b[38;5;28;01massert\u001b[39;00m \u001b[38;5;28mlen\u001b[39m(v1) \u001b[38;5;241m==\u001b[39m \u001b[38;5;28mlen\u001b[39m(v2) , \u001b[38;5;124m\"\u001b[39m\u001b[38;5;124merror\u001b[39m\u001b[38;5;124m\"\u001b[39m\n",
      "\u001b[1;31mAssertionError\u001b[0m: error"
     ]
    }
   ],
   "source": [
    "assert len(v1) == len(v2) , \"error\""
   ]
  },
  {
   "cell_type": "code",
   "execution_count": 44,
   "id": "2d02394b",
   "metadata": {},
   "outputs": [],
   "source": [
    "def summ(n1,n2):\n",
    "#     n3 = n1+n2/2\n",
    "    def add(n1,n2,n3=1):\n",
    "        return n1+n2+n3\n",
    "    return add(n1,n2)\n",
    "    "
   ]
  },
  {
   "cell_type": "code",
   "execution_count": 51,
   "id": "0935c149",
   "metadata": {},
   "outputs": [
    {
     "data": {
      "text/plain": [
       "4.5678745678"
      ]
     },
     "execution_count": 51,
     "metadata": {},
     "output_type": "execute_result"
    }
   ],
   "source": [
    "summ(1.5678745678,2)"
   ]
  },
  {
   "cell_type": "code",
   "execution_count": 54,
   "id": "d0e5da05",
   "metadata": {},
   "outputs": [
    {
     "name": "stdout",
     "output_type": "stream",
     "text": [
      "[4, 10, 18]\n",
      "32\n"
     ]
    }
   ],
   "source": [
    "v1 = [1,2,3]\n",
    "v2 = [4,5,6]\n",
    "lst = []\n",
    "for i in range(len(v1)):\n",
    "    lst.append( v1[i] * v2[i] )\n",
    "print(lst)\n",
    "print(sum(lst))"
   ]
  },
  {
   "cell_type": "code",
   "execution_count": 60,
   "id": "a5660808",
   "metadata": {},
   "outputs": [
    {
     "data": {
      "text/plain": [
       "[[11, 14], [18, 23], [25, 32]]"
      ]
     },
     "execution_count": 60,
     "metadata": {},
     "output_type": "execute_result"
    }
   ],
   "source": [
    "m1 = [[1,2],\n",
    "      [2,3],\n",
    "      [3,4]]\n",
    "m2 = [[3,4],\n",
    "      [4,5]]\n",
    "[[sum(i*x for i , x in zip(row,col)) for col in zip(*m2)] for row in m1]"
   ]
  },
  {
   "cell_type": "code",
   "execution_count": null,
   "id": "f708361a",
   "metadata": {},
   "outputs": [],
   "source": []
  },
  {
   "cell_type": "code",
   "execution_count": 70,
   "id": "55740028",
   "metadata": {},
   "outputs": [],
   "source": [
    "m1 = [[1,2],\n",
    "      [2,3],\n",
    "      [3,4]]\n",
    "m2 = [[3,4],\n",
    "      [4,5]]"
   ]
  },
  {
   "cell_type": "code",
   "execution_count": 72,
   "id": "efaa2e78",
   "metadata": {},
   "outputs": [
    {
     "data": {
      "text/plain": [
       "[[11, 14], [18, 23], [25, 32]]"
      ]
     },
     "execution_count": 72,
     "metadata": {},
     "output_type": "execute_result"
    }
   ],
   "source": [
    "[[sum( i * x for i , x in zip(row , col )) for col in zip(*m2)]  for row in m1]"
   ]
  },
  {
   "cell_type": "code",
   "execution_count": 73,
   "id": "c5d16fe9",
   "metadata": {},
   "outputs": [],
   "source": [
    "import numpy as np \n",
    "m1 = [[1,2],\n",
    "      [2,3],\n",
    "      [3,4]]\n",
    "m2 = [[3,4],\n",
    "      [4,5]]\n",
    "m1_arr = np.array(m1)\n",
    "m2_arr = np.array(m2)"
   ]
  },
  {
   "cell_type": "code",
   "execution_count": 74,
   "id": "937d1ade",
   "metadata": {},
   "outputs": [
    {
     "data": {
      "text/plain": [
       "array([[1, 2],\n",
       "       [2, 3],\n",
       "       [3, 4]])"
      ]
     },
     "execution_count": 74,
     "metadata": {},
     "output_type": "execute_result"
    }
   ],
   "source": [
    "m1_arr"
   ]
  },
  {
   "cell_type": "code",
   "execution_count": 78,
   "id": "34496e27",
   "metadata": {},
   "outputs": [
    {
     "data": {
      "text/plain": [
       "array([[3, 4],\n",
       "       [4, 5]])"
      ]
     },
     "execution_count": 78,
     "metadata": {},
     "output_type": "execute_result"
    }
   ],
   "source": [
    "m2_arr"
   ]
  },
  {
   "cell_type": "code",
   "execution_count": 79,
   "id": "957f051e",
   "metadata": {},
   "outputs": [
    {
     "data": {
      "text/plain": [
       "array([[11, 14],\n",
       "       [18, 23],\n",
       "       [25, 32]])"
      ]
     },
     "execution_count": 79,
     "metadata": {},
     "output_type": "execute_result"
    }
   ],
   "source": [
    "m1_arr.dot(m2_arr)"
   ]
  },
  {
   "cell_type": "code",
   "execution_count": 81,
   "id": "850cc8bf",
   "metadata": {},
   "outputs": [],
   "source": [
    "m1 = [[1,2],\n",
    "      [2,3],\n",
    "      [3,4]]\n",
    "m2 = [[3,4],\n",
    "      [4,5],\n",
    "      [5,6]]\n",
    "m1_arr = np.array(m1)\n",
    "m2_arr = np.array(m2)"
   ]
  },
  {
   "cell_type": "code",
   "execution_count": 83,
   "id": "b7f160f9",
   "metadata": {},
   "outputs": [
    {
     "data": {
      "text/plain": [
       "array([[ 3,  8],\n",
       "       [ 8, 15],\n",
       "       [15, 24]])"
      ]
     },
     "execution_count": 83,
     "metadata": {},
     "output_type": "execute_result"
    }
   ],
   "source": [
    "m1_arr * m2_arr"
   ]
  },
  {
   "cell_type": "code",
   "execution_count": 84,
   "id": "b5d45694",
   "metadata": {},
   "outputs": [
    {
     "name": "stdout",
     "output_type": "stream",
     "text": [
      "The numbers 13 and 7 are co-primes\n",
      "List of divisors of 18: [1, 2, 3, 6, 9, 18]\n",
      "List of prime divisors of 18: [2, 3]\n",
      "nthe multiplication table of: 1 is:\n",
      "1 x 1 = 1\n",
      "2 x 1 = 2\n",
      "3 x 1 = 3\n",
      "4 x 1 = 4\n",
      "5 x 1 = 5\n",
      "6 x 1 = 6\n",
      "7 x 1 = 7\n",
      "8 x 1 = 8\n",
      "9 x 1 = 9\n",
      "nthe multiplication table of: 2 is:\n",
      "1 x 2 = 2\n",
      "2 x 2 = 4\n",
      "3 x 2 = 6\n",
      "4 x 2 = 8\n",
      "5 x 2 = 10\n",
      "6 x 2 = 12\n",
      "7 x 2 = 14\n",
      "8 x 2 = 16\n",
      "9 x 2 = 18\n",
      "nthe multiplication table of: 3 is:\n",
      "1 x 3 = 3\n",
      "2 x 3 = 6\n",
      "3 x 3 = 9\n",
      "4 x 3 = 12\n",
      "5 x 3 = 15\n",
      "6 x 3 = 18\n",
      "7 x 3 = 21\n",
      "8 x 3 = 24\n",
      "9 x 3 = 27\n",
      "nthe multiplication table of: 4 is:\n",
      "1 x 4 = 4\n",
      "2 x 4 = 8\n",
      "3 x 4 = 12\n",
      "4 x 4 = 16\n",
      "5 x 4 = 20\n",
      "6 x 4 = 24\n",
      "7 x 4 = 28\n",
      "8 x 4 = 32\n",
      "9 x 4 = 36\n",
      "nthe multiplication table of: 5 is:\n",
      "1 x 5 = 5\n",
      "2 x 5 = 10\n",
      "3 x 5 = 15\n",
      "4 x 5 = 20\n",
      "5 x 5 = 25\n",
      "6 x 5 = 30\n",
      "7 x 5 = 35\n",
      "8 x 5 = 40\n",
      "9 x 5 = 45\n",
      "nthe multiplication table of: 6 is:\n",
      "1 x 6 = 6\n",
      "2 x 6 = 12\n",
      "3 x 6 = 18\n",
      "4 x 6 = 24\n",
      "5 x 6 = 30\n",
      "6 x 6 = 36\n",
      "7 x 6 = 42\n",
      "8 x 6 = 48\n",
      "9 x 6 = 54\n",
      "nthe multiplication table of: 7 is:\n",
      "1 x 7 = 7\n",
      "2 x 7 = 14\n",
      "3 x 7 = 21\n",
      "4 x 7 = 28\n",
      "5 x 7 = 35\n",
      "6 x 7 = 42\n",
      "7 x 7 = 49\n",
      "8 x 7 = 56\n",
      "9 x 7 = 63\n",
      "nthe multiplication table of: 8 is:\n",
      "1 x 8 = 8\n",
      "2 x 8 = 16\n",
      "3 x 8 = 24\n",
      "4 x 8 = 32\n",
      "5 x 8 = 40\n",
      "6 x 8 = 48\n",
      "7 x 8 = 56\n",
      "8 x 8 = 64\n",
      "9 x 8 = 72\n",
      "nthe multiplication table of: 9 is:\n",
      "1 x 9 = 9\n",
      "2 x 9 = 18\n",
      "3 x 9 = 27\n",
      "4 x 9 = 36\n",
      "5 x 9 = 45\n",
      "6 x 9 = 54\n",
      "7 x 9 = 63\n",
      "8 x 9 = 72\n",
      "9 x 9 = 81\n"
     ]
    }
   ],
   "source": [
    "class Computation:\n",
    "    def __init__ (self):\n",
    "        pass\n",
    "# --- Factorial ------------\n",
    "    def factorial(self, n):\n",
    "        j = 1\n",
    "        for i in range (1, n + 1):\n",
    "            j = j * i\n",
    "        return j\n",
    "    \n",
    "# --- Sum of the first n numbers ----\n",
    "    def sum (self, n):\n",
    "        j = 1\n",
    "        for i in range (1, n + 1):\n",
    "            j = j + i\n",
    "        return j\n",
    "    \n",
    "# --- Primality test of a number ------------\n",
    "    def testPrim (self, n):\n",
    "        j = 0\n",
    "        for i in range (1, n + 1):\n",
    "            if (n% i == 0):\n",
    "                j = j + 1\n",
    "        if (j == 2):\n",
    "            return True\n",
    "        else:\n",
    "            return False\n",
    "\n",
    "# --- Primality test of two integers ------------\n",
    "    def testprims (self, n, m):\n",
    "        \n",
    "        # initialize the number of commons divisors\n",
    "        commonDiv = 0\n",
    "        for i in range (1, n + 1):\n",
    "            if (n% i == 0 and m% i == 0):\n",
    "                commonDiv = commonDiv + 1\n",
    "        if commonDiv == 1:\n",
    "            print (\"The numbers\", n, \"and\", m, \"are co-primes\")\n",
    "        else:\n",
    "            print (\"The numbers\", n, \"and\", m, \"are not co-primes\")\n",
    "\n",
    "#---Multiplication table-------------\n",
    "    def tableMult (self, k):\n",
    "        for i in range (1,10):\n",
    "            print (i, \"x\", k, \"=\", i * k)\n",
    "\n",
    "# --- All multiplication tables of the numbers 1, 2, .., 9\n",
    "    def allTables (self):\n",
    "        for k in range (1,10):\n",
    "            print (\"nthe multiplication table of:\", k, \"is:\")\n",
    "            for i in range (1,10):\n",
    "                print (i, \"x\", k, \"=\", i * k)\n",
    "\n",
    "# ----- list of divisors of an integer\n",
    "    def listDiv (self, n):\n",
    "        # initialization of the list of divisors\n",
    "        lDiv = []\n",
    "        for i in range (1, n + 1):\n",
    "            if (n% i == 0):\n",
    "                lDiv.append(i)\n",
    "        return lDiv\n",
    "\n",
    "# ------ list of prime divisors of an integer ----------------\n",
    "    def listDivPrim (self, n):\n",
    "        # initialization of the list of divisors\n",
    "        lDiv = []\n",
    "        for i in range (1, n + 1):\n",
    "            if (n% i == 0 and self.testPrim (i)):\n",
    "                lDiv.append (i)\n",
    "        return lDiv\n",
    "\n",
    "# Instantiation example\n",
    "Comput= Computation ()\n",
    "Comput.testprims (13, 7)\n",
    "print (\"List of divisors of 18:\", Comput.listDiv (18))\n",
    "print (\"List of prime divisors of 18:\", Comput.listDivPrim (18))\n",
    "Comput.allTables ()"
   ]
  },
  {
   "cell_type": "code",
   "execution_count": null,
   "id": "ee8df918",
   "metadata": {},
   "outputs": [],
   "source": []
  }
 ],
 "metadata": {
  "kernelspec": {
   "display_name": "Python 3 (ipykernel)",
   "language": "python",
   "name": "python3"
  },
  "language_info": {
   "codemirror_mode": {
    "name": "ipython",
    "version": 3
   },
   "file_extension": ".py",
   "mimetype": "text/x-python",
   "name": "python",
   "nbconvert_exporter": "python",
   "pygments_lexer": "ipython3",
   "version": "3.10.9"
  }
 },
 "nbformat": 4,
 "nbformat_minor": 5
}
